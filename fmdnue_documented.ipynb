{
 "cells": [
  {
   "cell_type": "markdown",
   "metadata": {},
   "source": [
    "# Future Mobility Days -- ADAC Challenge"
   ]
  },
  {
   "cell_type": "markdown",
   "metadata": {},
   "source": [
    "Wie kann uns der technologische Fortschritt dabei helfen unsere alltäglichen Pendelwege angenehmer und effizienter zu gestalten? Welche Schlüsse lassen sich aus immer feiner aufgelösten Datensätzen ziehen?"
   ]
  },
  {
   "cell_type": "markdown",
   "metadata": {},
   "source": [
    "In diesem Notebook erarbeiten wir eine Case Study, in der wir basierend auf Verkehrsdaten aus der Kleinstadt Landsberg am Lech illustrieren, wie eine intelligente Auto-Ampel Kommunikation zu einem erheblich verbessertem Verkehrsfluss führen kann."
   ]
  },
  {
   "cell_type": "markdown",
   "metadata": {},
   "source": [
    "Der typische Autofahrer fährt heutzutage mit voller Geschwindigkeit auf eine rote Ampel zu, bremst dann rapide ab und muss bei der Grünschaltung wieder aus dem Stand beschleunigen. Dies ist aus ökonomischer, ökologischer und verkehrstechnischer Sicht in höchstem Maße ineffizient. \n",
    "\n",
    "Wir schlagen vor, dass Ampelschaltungen den genauen Beginn der nächsten Grünphase an die Autos übermitteln. Diese können dann die Anfahrt zur Ampel so timen, dass keine Wartezeit an der Ampel auftritt und diese mit voller Geschwindigkeit überquert werden kann. Durch die zunehmende Bedeutung des autonomen Fahrens, kann die hier vorgestellte intelligente Auto-Ampel Kommunikation einfach und auf großen Skalen implementiert werden."
   ]
  },
  {
   "cell_type": "markdown",
   "metadata": {},
   "source": [
    "## Datenvorverarbeitung"
   ]
  },
  {
   "cell_type": "markdown",
   "metadata": {},
   "source": [
    "Die zur Verfügung gestellten Daten betreffen Verkehrsbewegungen in ganz Bayern über den Zeitraum von einem Monat. Um den 32 GB großen Datensatz handhaben zu können, laden wir nur die für die Case Study relevanten Attribute."
   ]
  },
  {
   "cell_type": "code",
   "execution_count": null,
   "metadata": {
    "collapsed": false
   },
   "outputs": [],
   "source": [
    "import pandas as pd\n",
    "\n",
    "important_cols = ['assetId', 'latitude', 'longitude', 'town', 'velocity', 'timestamputc']\n",
    "df = pd.read_csv('../data/raw/Bayern_2016_03.csv',  encoding = \"ISO-8859-1\", sep = \";\", \n",
    "                usecols = important_cols)"
   ]
  },
  {
   "cell_type": "markdown",
   "metadata": {},
   "source": [
    "Aus dem bayernweiten Datensatz wird nun das Teilgebiet zu Landsberg am Lech extrahiert und gesichert. Außerdem werden Längen- und Breitengrad in ein Floating-point Format umgrechnet."
   ]
  },
  {
   "cell_type": "code",
   "execution_count": 96,
   "metadata": {
    "collapsed": false
   },
   "outputs": [],
   "source": [
    "lale = ['LANDSBERG' in w for w in df['town']]\n",
    "landsberg = df[lale]\n",
    "\n",
    "landsberg['lat'] = landsberg['latitude'] * 1e-6\n",
    "landsberg['lon'] = landsberg['longitude'] * 1e-6\n",
    "landsberg.to_csv('../data/raw/landsberg.csv', header = True, index = False)"
   ]
  },
  {
   "cell_type": "markdown",
   "metadata": {},
   "source": [
    "Für weitere Auswertungen kann nun direkt der Landsberg-spezifische Datensatz geladen werden."
   ]
  },
  {
   "cell_type": "code",
   "execution_count": 5,
   "metadata": {
    "collapsed": false
   },
   "outputs": [],
   "source": [
    "landsberg = pd.read_csv('../data/raw/landsberg.csv',  encoding = \"ISO-8859-1\")"
   ]
  },
  {
   "cell_type": "markdown",
   "metadata": {},
   "source": [
    "## Konzentration auf Verkehr im Stadtzentrum"
   ]
  },
  {
   "cell_type": "markdown",
   "metadata": {},
   "source": [
    "Der Großteil der Verkehrsdaten erfasst den Autobahnverkehr im Norden der Stadt und ist deshalb für die Ampel-Case Study nicht relevant. Deshalb extrahieren wir im nächsten Fahrten, die durch das Stadtzentrum verlaufen."
   ]
  },
  {
   "cell_type": "code",
   "execution_count": 149,
   "metadata": {
    "collapsed": false,
    "scrolled": true
   },
   "outputs": [],
   "source": [
    "[LAT_MIN, LAT_MAX, LON_MIN, LON_MAX] = [48.045, 48.05, 10.865, 10.88]\n",
    "\n",
    "landsberg_center = landsberg[(landsberg['lat'] >  LAT_MIN) & (landsberg['lat'] <  LAT_MAX)\n",
    "                           & (landsberg['lon'] > LON_MIN) & (landsberg['lon'] < LON_MAX)]\n",
    "\n",
    "center_rides = landsberg_center['assetId'].unique()"
   ]
  },
  {
   "cell_type": "markdown",
   "metadata": {},
   "source": [
    "Das Paket `Folium` ermöglicht es uns Beispielfahrten schnell zu visualisieren."
   ]
  },
  {
   "cell_type": "code",
   "execution_count": 159,
   "metadata": {
    "collapsed": false
   },
   "outputs": [
    {
     "data": {
      "text/html": [
       "<div style=\"width:100%;\"><div style=\"position:relative;width:100%;height:0;padding-bottom:60%;\"><iframe src=\"data:text/html;base64,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\" style=\"position:absolute;width:100%;height:100%;left:0;top:0;\"></iframe></div></div>"
      ],
      "text/plain": [
       "<folium.folium.Map at 0x7f6256db90f0>"
      ]
     },
     "execution_count": 159,
     "metadata": {},
     "output_type": "execute_result"
    }
   ],
   "source": [
    "import folium\n",
    "\n",
    "EXAMPLE_ID = center_rides[157]\n",
    "LANDSBERG_CENTER_LAT = 48.0460\n",
    "LANDSBERG_CENTER_LON =  10.87200\n",
    "ZOOM = 16\n",
    "\n",
    "example_ride = landsberg[landsberg['assetId'] == EXAMPLE_ID][['timestamputc', 'lat', 'lon']]\n",
    "\n",
    "map_osm = folium.Map(location=[LANDSBERG_CENTER_LAT, LANDSBERG_CENTER_LON], zoom_start = ZOOM)\n",
    "for each in example_ride[['lat','lon']].values:  \n",
    "    folium.Marker(each).add_to(map_osm)\n",
    "map_osm"
   ]
  },
  {
   "cell_type": "markdown",
   "metadata": {},
   "source": [
    "Für die Case Study betrachten wir nur die Zufahrt an eine Ampel und die danachfolgende Weiterfahrt."
   ]
  },
  {
   "cell_type": "code",
   "execution_count": 115,
   "metadata": {
    "collapsed": false
   },
   "outputs": [],
   "source": [
    "#Ampelzufahrt und Weiterfahrt\n",
    "example = example_ride.iloc[19:35,:].reset_index(drop = True)"
   ]
  },
  {
   "cell_type": "markdown",
   "metadata": {},
   "source": [
    "## Berechnung der Ampelanfahrtsstrategie"
   ]
  },
  {
   "cell_type": "markdown",
   "metadata": {},
   "source": [
    "Im Folgenden berechnen wir eine verbesserte Ampelanfahrtsstrategie, sodass im Moment des Grünschaltens der Ampel das Auto diese mit voller Geschwindigkeit passieren kann. Dabei wird die Zufahrt zur Ampel zunächst verlangsamt, und dann wieder beschleunigt. Dadurch wird erreicht, dass das Fahrzeug die Ampel erst in der Grünphase erreicht, dann aber bereits die volle Geschwindigkeit hat."
   ]
  },
  {
   "cell_type": "markdown",
   "metadata": {},
   "source": [
    "### Feature-Transformation"
   ]
  },
  {
   "cell_type": "markdown",
   "metadata": {},
   "source": [
    "Um die Anfahrtsstrategie zu implementieren, stellen wir zunächst Zeit und Distanz zum Ausgangspunkt als skalare Größen dar."
   ]
  },
  {
   "cell_type": "code",
   "execution_count": 117,
   "metadata": {
    "collapsed": false
   },
   "outputs": [],
   "source": [
    "import numpy as np\n",
    "pd.options.mode.chained_assignment = None \n",
    "\n",
    "\n",
    "example['time'] = pd.DatetimeIndex(example['timestamputc']).astype(np.int64)\n",
    "\n",
    "from geopy.distance import vincenty\n",
    "\n",
    "def distance(ride):\n",
    "    coords = ride[['lat', 'lon']]\n",
    "    coords_pairs = pd.concat([coords, coords.shift()], ignore_index = True, axis = 1).iloc[1:,:]\n",
    "    distances = coords_pairs.apply(lambda row: vincenty(row[:2].values, row[2:].values).meters, axis = 1)\n",
    "    return np.append([0], distances.cumsum().values)\n",
    "\n",
    "example['distance'] = distance(example)"
   ]
  },
  {
   "cell_type": "markdown",
   "metadata": {},
   "source": [
    "Für eine lineare Interpolation des Fahrzeugs benötigen wir außerdem Koordinaten aufeinanderfolgender Wegpunkte."
   ]
  },
  {
   "cell_type": "code",
   "execution_count": 125,
   "metadata": {
    "collapsed": false
   },
   "outputs": [],
   "source": [
    "example['shift_distance'] = example['distance'].shift(-1).fillna(method = 'ffill')\n",
    "example['shift_lat'] = example['lat'].shift(-1).fillna(method = 'ffill')\n",
    "example['shift_lon'] = example['lon'].shift(-1).fillna(method = 'ffill')"
   ]
  },
  {
   "cell_type": "markdown",
   "metadata": {},
   "source": [
    "### Formel Weglänge Anfahrtsstrategien"
   ]
  },
  {
   "cell_type": "markdown",
   "metadata": {},
   "source": [
    "Nun berechnen wir Anfahrtsprofile mit variiender Komplexitätsstufe. Zunächst betrachten wir Fortbewegung mit konstanter Geschwindigkeit."
   ]
  },
  {
   "cell_type": "code",
   "execution_count": 71,
   "metadata": {
    "collapsed": true
   },
   "outputs": [],
   "source": [
    "def loc_const_vel(v):\n",
    "    return lambda t: t * v"
   ]
  },
  {
   "cell_type": "markdown",
   "metadata": {},
   "source": [
    "Als nächstes haben wir eine Fortbewegung mit linearer Geschwindigkeitsänderung."
   ]
  },
  {
   "cell_type": "code",
   "execution_count": 86,
   "metadata": {
    "collapsed": false
   },
   "outputs": [],
   "source": [
    "def loc_lin_vel(tmin, tmax, vmin, vmax):\n",
    "    return lambda t: loc_const_vel(0.5 * (vmin + np.interp(t, [tmin, tmax], [vmin, vmax])))(t - tmin)"
   ]
  },
  {
   "cell_type": "markdown",
   "metadata": {},
   "source": [
    "Schließlich die Bewegung nach einem Geschwindigkeitsprofil, das zunächst linear abnimmt und dann linear zunimmt."
   ]
  },
  {
   "cell_type": "code",
   "execution_count": 87,
   "metadata": {
    "collapsed": true
   },
   "outputs": [],
   "source": [
    "def loc_bilin_vel(tmin, tmax, vmin, vmax):\n",
    "    tmid = 0.5 * (tmin + tmax)\n",
    "    vmid = 0.5 * (vmin + vmax)\n",
    "    offset = loc_const_vel(vmid)(tmid-tmin)\n",
    "    \n",
    "    return lambda t: (loc_lin_vel(tmin, tmid, vmax, vmin)(t) if t < tmid \n",
    "                      else offset + loc_lin_vel(tmid, tmax, vmax, vmin)(t))\n",
    "\n",
    "def final_loc(tmin, tmax, vmin, vmax):\n",
    "    offset = loc_bilin_vel(tmin, tmax, vmin, vmax)(tmax) \n",
    "    return lambda t: (loc_bilin_vel(tmin, tmax, vmin, vmax)(t) if t < tmax \n",
    "                      else offset + loc_const_vel(vmax)(t - tmax))"
   ]
  },
  {
   "cell_type": "markdown",
   "metadata": {},
   "source": [
    "### Berechnung Anfahrtsstrategie auf Realdaten"
   ]
  },
  {
   "cell_type": "markdown",
   "metadata": {},
   "source": [
    "Um die Anfahrtsstrategie auf den Landsbergdaten zu implementieren, setzen wir eine Maximalgeschwindigkeit von 40 km/h an."
   ]
  },
  {
   "cell_type": "code",
   "execution_count": 118,
   "metadata": {
    "collapsed": false
   },
   "outputs": [
    {
     "data": {
      "text/plain": [
       "3.7028703799875299e-09"
      ]
     },
     "execution_count": 118,
     "metadata": {},
     "output_type": "execute_result"
    }
   ],
   "source": [
    "example_small = example.iloc[:10,:]\n",
    "ampel_idx = 9\n",
    "dx = example.loc[ampel_idx, 'distance']\n",
    "tmin = example.loc[0, 'time'] \n",
    "tmax =  example.loc[ampel_idx, 'time']\n",
    "dt = tmax - tmin\n",
    "\n",
    "def comp_vmin(vmax, travel_dist, travel_time):\n",
    "    return 2*travel_dist/travel_time - vmax\n",
    "\n",
    "vmax = 40 / (3.6e9)\n",
    "vmin = comp_vmin(vmax , dx, dt)"
   ]
  },
  {
   "cell_type": "markdown",
   "metadata": {},
   "source": [
    "Nun ergänzen wir die Beispieldaten um die neue Anfahrtsstrategie."
   ]
  },
  {
   "cell_type": "code",
   "execution_count": 126,
   "metadata": {
    "collapsed": true
   },
   "outputs": [],
   "source": [
    "example['new_dist'] = example['time'].apply(lambda x: final_loc(tmin, tmax, vmin,vmax)(x))\n",
    "example['shift_new_dist'] = example['new_dist'].shift(-1).fillna(method = 'ffill')\n",
    "\n",
    "#Nur Ampelzufahrt\n",
    "example_small = example.iloc[:(ampel_idx + 1), :]"
   ]
  },
  {
   "cell_type": "markdown",
   "metadata": {},
   "source": [
    "### Rücktransformation auf Koordinatenebene"
   ]
  },
  {
   "cell_type": "markdown",
   "metadata": {},
   "source": [
    "Die neue Anfahrtsstrategie wird nun auf die Geo-Koordinaten zurückgerechnet"
   ]
  },
  {
   "cell_type": "code",
   "execution_count": 143,
   "metadata": {
    "collapsed": false
   },
   "outputs": [],
   "source": [
    "def compute_location(dist, ride):\n",
    "    mask = ride.apply(lambda row: (dist >= row['distance']) & (dist <= row['shift_distance']), axis = 1)\n",
    "    loc_row = ride[mask].iloc[0]    \n",
    "    return [np.interp(dist, [loc_row['distance'], loc_row['shift_distance']], \n",
    "                      [loc_row['{}'.format(lalo)], loc_row['shift_{}'.format(lalo)]]) for lalo in ['lat', 'lon']]\n"
   ]
  },
  {
   "cell_type": "code",
   "execution_count": 145,
   "metadata": {
    "collapsed": false
   },
   "outputs": [],
   "source": [
    "#Vermeide Probleme an Definitionsrändern\n",
    "MIN_VAL = .1\n",
    "MAX_VAL = example.iloc[-1, :]['distance'] - .1\n",
    "\n",
    "anticip_example = example['new_dist'].apply(lambda x: compute_location(min(max(MIN_VAL, x), MAX_VAL), example)).values"
   ]
  },
  {
   "cell_type": "markdown",
   "metadata": {},
   "source": [
    "### Visualisierung der verbesserten Anfahrtsstrategie"
   ]
  },
  {
   "cell_type": "markdown",
   "metadata": {},
   "source": [
    "Durch die verbesserte Anfahrtsstrategie (grün) wird im Vergleich zum Original (rot) in der gleichen Zeit ein deutlich weiterer Weg zurückgelegt."
   ]
  },
  {
   "cell_type": "code",
   "execution_count": 161,
   "metadata": {
    "collapsed": false,
    "scrolled": false
   },
   "outputs": [
    {
     "data": {
      "text/html": [
       "<div style=\"width:100%;\"><div style=\"position:relative;width:100%;height:0;padding-bottom:60%;\"><iframe src=\"data:text/html;base64,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\" style=\"position:absolute;width:100%;height:100%;left:0;top:0;\"></iframe></div></div>"
      ],
      "text/plain": [
       "<folium.folium.Map at 0x7f6256cfce48>"
      ]
     },
     "execution_count": 161,
     "metadata": {},
     "output_type": "execute_result"
    }
   ],
   "source": [
    "from folium.plugins import MarkerCluster\n",
    "from folium.features import DivIcon\n",
    "map_osm = folium.Map(location=[LANDSBERG_CENTER_LAT, LANDSBERG_CENTER_LON], zoom_start = ZOOM)\n",
    "\n",
    "for each in example[['lat','lon']].values[:-2]:  \n",
    "    folium.Marker(each , icon = folium.Icon(color = 'red')).add_to(map_osm)\n",
    "    \n",
    "for a,each in enumerate(anticip_example):  \n",
    "    folium.Marker(each , icon = folium.Icon(color = 'green')).add_to(map_osm)\n",
    "map_osm"
   ]
  }
 ],
 "metadata": {
  "kernelspec": {
   "display_name": "Python 3",
   "language": "python",
   "name": "python3"
  },
  "language_info": {
   "codemirror_mode": {
    "name": "ipython",
    "version": 3
   },
   "file_extension": ".py",
   "mimetype": "text/x-python",
   "name": "python",
   "nbconvert_exporter": "python",
   "pygments_lexer": "ipython3",
   "version": "3.5.2+"
  }
 },
 "nbformat": 4,
 "nbformat_minor": 2
}
